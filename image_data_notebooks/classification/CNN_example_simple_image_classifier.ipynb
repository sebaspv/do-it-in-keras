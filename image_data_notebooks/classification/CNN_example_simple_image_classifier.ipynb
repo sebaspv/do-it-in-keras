{
  "nbformat": 4,
  "nbformat_minor": 0,
  "metadata": {
    "colab": {
      "name": "Copy of Exercise 4-Question.ipynb",
      "provenance": [],
      "collapsed_sections": [],
      "toc_visible": true
    },
    "kernelspec": {
      "display_name": "Python 3",
      "name": "python3"
    }
  },
  "cells": [
    {
      "cell_type": "markdown",
      "metadata": {
        "id": "UncprnB0ymAE"
      },
      "source": [
        "Below is code with a link to a happy or sad dataset which contains 80 images, 40 happy and 40 sad. \n",
        "Create a convolutional neural network that trains to 100% accuracy on these images,  which cancels training upon hitting training accuracy of >.999\n",
        "\n",
        "Hint -- it will work best with 3 convolutional layers."
      ]
    },
    {
      "cell_type": "code",
      "metadata": {
        "id": "7Vti6p3PxmpS",
        "colab": {
          "base_uri": "https://localhost:8080/",
          "height": 210
        },
        "outputId": "145e43c4-d854-4988-826e-64f97c4cda98"
      },
      "source": [
        "import tensorflow as tf\n",
        "import os\n",
        "import zipfile\n",
        "\n",
        "\n",
        "DESIRED_ACCURACY = 0.999\n",
        "\n",
        "!wget --no-check-certificate \\\n",
        "    \"https://storage.googleapis.com/laurencemoroney-blog.appspot.com/happy-or-sad.zip\" \\\n",
        "    -O \"/tmp/happy-or-sad.zip\"\n",
        "\n",
        "zip_ref = zipfile.ZipFile(\"/tmp/happy-or-sad.zip\", 'r')\n",
        "zip_ref.extractall(\"/tmp/h-or-s\")\n",
        "zip_ref.close()\n",
        "\n",
        "class myCallback(tf.keras.callbacks.Callback):\n",
        "    # Your Code\n",
        "    DESIRED_ACCURACY = 0.999\n",
        "\n",
        "def on_epoch_end(self, epoch, logs={}):\n",
        "  if(logs.get('acc')>DESIRED_ACCURACY):\n",
        "    print(\"\\nReached 99.9% accuracy so cancelling training!\")\n",
        "    self.model.stop_training = True\n",
        "callbacks = myCallback()"
      ],
      "execution_count": null,
      "outputs": [
        {
          "output_type": "stream",
          "text": [
            "--2020-09-11 21:32:09--  https://storage.googleapis.com/laurencemoroney-blog.appspot.com/happy-or-sad.zip\n",
            "Resolving storage.googleapis.com (storage.googleapis.com)... 74.125.142.128, 74.125.195.128, 74.125.20.128, ...\n",
            "Connecting to storage.googleapis.com (storage.googleapis.com)|74.125.142.128|:443... connected.\n",
            "HTTP request sent, awaiting response... 200 OK\n",
            "Length: 2670333 (2.5M) [application/zip]\n",
            "Saving to: ‘/tmp/happy-or-sad.zip’\n",
            "\n",
            "\r/tmp/happy-or-sad.z   0%[                    ]       0  --.-KB/s               \r/tmp/happy-or-sad.z 100%[===================>]   2.55M  --.-KB/s    in 0.02s   \n",
            "\n",
            "2020-09-11 21:32:09 (164 MB/s) - ‘/tmp/happy-or-sad.zip’ saved [2670333/2670333]\n",
            "\n"
          ],
          "name": "stdout"
        }
      ]
    },
    {
      "cell_type": "code",
      "metadata": {
        "id": "6DLGbXXI1j_V"
      },
      "source": [
        "# This Code Block should Define and Compile the Model\n",
        "model = tf.keras.models.Sequential([\n",
        "# Your Code Here\n",
        "# This is the first convolution\n",
        "tf.keras.layers.Conv2D(16, (3,3), activation='relu', input_shape=(150, 150, 3)),\n",
        "tf.keras.layers.MaxPooling2D(2, 2),\n",
        "# The second convolution\n",
        "tf.keras.layers.Conv2D(32, (3,3), activation='relu', input_shape=(150, 150, 3)),\n",
        "tf.keras.layers.MaxPooling2D(2,2),\n",
        "# The third convolution\n",
        "tf.keras.layers.Conv2D(64, (3,3), activation='relu', input_shape=(150, 150, 3)),\n",
        "tf.keras.layers.MaxPooling2D(2,2),\n",
        "tf.keras.layers.Flatten(),\n",
        "# 512 neuron hidden layer\n",
        "tf.keras.layers.Dense(256, activation='relu'),\n",
        "# Only 1 output neuron. Sigmoid Based on set values = {0,1}\n",
        "tf.keras.layers.Dense(1, activation='sigmoid')\n",
        "])\n",
        "\n",
        "from tensorflow.keras.optimizers import RMSprop\n",
        "\n",
        "model.compile(loss='binary_crossentropy',\n",
        "              optimizer=RMSprop(lr=0.001),\n",
        "              metrics=['acc'])"
      ],
      "execution_count": null,
      "outputs": []
    },
    {
      "cell_type": "code",
      "metadata": {
        "id": "4Ap9fUJE1vVu",
        "colab": {
          "base_uri": "https://localhost:8080/",
          "height": 34
        },
        "outputId": "f859aa9a-c210-4a4d-9877-7a3084c688b1"
      },
      "source": [
        "# This code block should create an instance of an ImageDataGenerator called train_datagen \n",
        "# And a train_generator by calling train_datagen.flow_from_directory\n",
        "\n",
        "from tensorflow.keras.preprocessing.image import ImageDataGenerator\n",
        "\n",
        "train_datagen = ImageDataGenerator(rescale=1.0/255.0)\n",
        "\n",
        "train_generator = train_datagen.flow_from_directory(\n",
        "    \"/tmp/h-or-s/\",   # This is the source directory for training images\n",
        "    target_size=(150, 150),  # All images will be resized to 150x150\n",
        "    batch_size=4,\n",
        "    #color_mode='rgb',\n",
        "    class_mode='binary',\n",
        "    #shuffle=True\n",
        ")\n",
        "\n",
        "# Expected output: 'Found 80 images belonging to 2 classes'"
      ],
      "execution_count": null,
      "outputs": [
        {
          "output_type": "stream",
          "text": [
            "Found 80 images belonging to 2 classes.\n"
          ],
          "name": "stdout"
        }
      ]
    },
    {
      "cell_type": "code",
      "metadata": {
        "id": "48dLm13U1-Le",
        "colab": {
          "base_uri": "https://localhost:8080/",
          "height": 618
        },
        "outputId": "7b5238f6-529c-468d-dd82-db4d43638ea2"
      },
      "source": [
        "# This code block should call model.fit and train for\n",
        "# a number of epochs. \n",
        "history = model.fit_generator(\n",
        "          train_generator,\n",
        "          steps_per_epoch=8,  \n",
        "          epochs=15,\n",
        "          verbose=1,\n",
        "          callbacks=[callbacks]\n",
        "    )\n",
        "# Expected output: \"Reached 99.9% accuracy so cancelling training!\"\""
      ],
      "execution_count": null,
      "outputs": [
        {
          "output_type": "stream",
          "text": [
            "WARNING:tensorflow:From <ipython-input-11-e3c64912e5f0>:8: Model.fit_generator (from tensorflow.python.keras.engine.training) is deprecated and will be removed in a future version.\n",
            "Instructions for updating:\n",
            "Please use Model.fit, which supports generators.\n",
            "Epoch 1/15\n",
            "8/8 [==============================] - 1s 129ms/step - loss: 1.2094 - acc: 0.4688\n",
            "Epoch 2/15\n",
            "8/8 [==============================] - 1s 129ms/step - loss: 0.6238 - acc: 0.7188\n",
            "Epoch 3/15\n",
            "8/8 [==============================] - 1s 130ms/step - loss: 0.4810 - acc: 0.8125\n",
            "Epoch 4/15\n",
            "8/8 [==============================] - 1s 126ms/step - loss: 0.1985 - acc: 0.9688\n",
            "Epoch 5/15\n",
            "8/8 [==============================] - 1s 128ms/step - loss: 0.0986 - acc: 0.9375\n",
            "Epoch 6/15\n",
            "8/8 [==============================] - 1s 129ms/step - loss: 0.1429 - acc: 0.9375\n",
            "Epoch 7/15\n",
            "8/8 [==============================] - 1s 126ms/step - loss: 0.3851 - acc: 0.8750\n",
            "Epoch 8/15\n",
            "8/8 [==============================] - 1s 127ms/step - loss: 0.0990 - acc: 0.9375\n",
            "Epoch 9/15\n",
            "8/8 [==============================] - 1s 133ms/step - loss: 0.0855 - acc: 0.9688\n",
            "Epoch 10/15\n",
            "8/8 [==============================] - 1s 129ms/step - loss: 0.0458 - acc: 1.0000\n",
            "Epoch 11/15\n",
            "8/8 [==============================] - 1s 127ms/step - loss: 0.0233 - acc: 1.0000\n",
            "Epoch 12/15\n",
            "8/8 [==============================] - 1s 128ms/step - loss: 0.1649 - acc: 0.9062\n",
            "Epoch 13/15\n",
            "8/8 [==============================] - 1s 129ms/step - loss: 0.0167 - acc: 1.0000\n",
            "Epoch 14/15\n",
            "8/8 [==============================] - 1s 127ms/step - loss: 0.0022 - acc: 1.0000\n",
            "Epoch 15/15\n",
            "8/8 [==============================] - 1s 127ms/step - loss: 0.0028 - acc: 1.0000\n"
          ],
          "name": "stdout"
        }
      ]
    }
  ]
}